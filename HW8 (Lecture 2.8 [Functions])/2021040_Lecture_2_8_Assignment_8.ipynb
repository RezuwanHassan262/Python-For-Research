{
  "nbformat": 4,
  "nbformat_minor": 5,
  "metadata": {
    "kernelspec": {
      "display_name": "Python 3",
      "language": "python",
      "name": "python3"
    },
    "language_info": {
      "codemirror_mode": {
        "name": "ipython",
        "version": 3
      },
      "file_extension": ".py",
      "mimetype": "text/x-python",
      "name": "python",
      "nbconvert_exporter": "python",
      "pygments_lexer": "ipython3",
      "version": "3.8.8"
    },
    "colab": {
      "name": "2021040_Lecture 2.8_Assignment 8",
      "provenance": [],
      "collapsed_sections": []
    }
  },
  "cells": [
    {
      "cell_type": "markdown",
      "metadata": {
        "id": "f1f74d79"
      },
      "source": [
        "## Assignment on Function"
      ],
      "id": "f1f74d79"
    },
    {
      "cell_type": "markdown",
      "metadata": {
        "id": "0e9bb778"
      },
      "source": [
        "1. Write python codes that shows the arithmatic operations using function."
      ],
      "id": "0e9bb778"
    },
    {
      "cell_type": "code",
      "metadata": {
        "id": "fa49aafd",
        "colab": {
          "base_uri": "https://localhost:8080/"
        },
        "outputId": "5efa5147-6e31-48df-c4d9-2c818726e164"
      },
      "source": [
        "print('Using one function')\n",
        "print('\\n')\n",
        "\n",
        "def calculator(a,b,c):\n",
        "  if c == '+':\n",
        "    d = a+b\n",
        "    return(d)\n",
        "  elif c == '-':\n",
        "    d = a-b\n",
        "    return(d)\n",
        "  elif c == '*':\n",
        "    d = a*b\n",
        "    return(d)\n",
        "  elif c == '/':\n",
        "    d = a/b\n",
        "    return(d) \n",
        "  else:\n",
        "    return(\"Invalid operation\")\n",
        "\n",
        "a,b = map(int,input('Insert two integars: ').split())\n",
        "c = input('What operation do you want to do on these two integars(Use signs)?: ')\n",
        "print('The result of your given operation on the given two variables is:',calculator(a,b,c))\n",
        "\n",
        "#Using multiple functions\n",
        "print('\\n')\n",
        "print('Using multiple functions')\n",
        "print('\\n')\n",
        "\n",
        "def Addition(a,b):\n",
        "  c = a+b\n",
        "  return(c)\n",
        "def Subtraction(a,b):\n",
        "  c = a-b\n",
        "  return(c)\n",
        "def Multiplication(a,b):\n",
        "  c = a*b\n",
        "  return(c)\n",
        "def Division(a,b):\n",
        "  c = a/b\n",
        "  return(c)\n",
        "\n",
        "a,b = map(int, input(\"Insert two integar numbers: \").split())\n",
        "o = input(\"What kind of operation(signs) do u wish to do on these two integars?: \")\n",
        "if o == '+':\n",
        "  c = Addition(a,b)\n",
        "  print(\"The sum of these two given integars is:\", c)\n",
        "elif o == '-':\n",
        "  c = Subtraction(a,b)\n",
        "  print(\"The difference between these two given integars is:\", c)\n",
        "elif o == '*':\n",
        "  c = Multiplication(a,b)\n",
        "  print(\"The multiplication of these two given integars is:\", c)\n",
        "elif o == \"/\":\n",
        "  c = Division(a,b)\n",
        "  print(\"The division of the first integar by the second integar is:\", c)\n",
        "else:\n",
        "  print('Invalid operation')"
      ],
      "id": "fa49aafd",
      "execution_count": null,
      "outputs": [
        {
          "output_type": "stream",
          "text": [
            "Using one function\n",
            "\n",
            "\n",
            "Insert two integars: 12 3\n",
            "What operation do you want to do on these two integars(Use signs)?: +\n",
            "The result of your given operation on the given two variables is: 15\n",
            "\n",
            "\n",
            "Using multiple functions\n",
            "\n",
            "\n",
            "Insert two integar numbers: 3 5\n",
            "What kind of operation(signs) do u wish to do on these two integars?: %\n",
            "Invalid operation\n"
          ],
          "name": "stdout"
        }
      ]
    },
    {
      "cell_type": "markdown",
      "metadata": {
        "id": "0649b312"
      },
      "source": [
        "2. Find the largest number from three numbers using function."
      ],
      "id": "0649b312"
    },
    {
      "cell_type": "code",
      "metadata": {
        "colab": {
          "base_uri": "https://localhost:8080/"
        },
        "id": "dd2d2c75",
        "outputId": "082f16af-dae2-4c89-a2ab-96c8b4909c3a"
      },
      "source": [
        "#PreFixedList\n",
        "print('This is the output of the pre fixed list')\n",
        "print('\\n')\n",
        "l = list(range(1,4))\n",
        "\n",
        "def MaxList(l):\n",
        "  k = max(l)\n",
        "  return(k)\n",
        "print(\"List:\", l)\n",
        "print(\"Largest number from the three numbers of the list is:\", MaxList(l))\n",
        "print('\\n')\n",
        "#CustomizedList\n",
        "print('This is the output of the customized list')\n",
        "l = []\n",
        "i = 0\n",
        "while i < 3:\n",
        "  b = int(input(\"Insert Element: \"))\n",
        "  l.append(b)\n",
        "  i+=1\n",
        "print(\"List:\", l)\n",
        "def MaxList(l):\n",
        "  k = max(l)\n",
        "  return(k)\n",
        "print(\"Largest number from the three numbers of the list is:\", MaxList(l))"
      ],
      "id": "dd2d2c75",
      "execution_count": null,
      "outputs": [
        {
          "output_type": "stream",
          "text": [
            "This is the output of the pre fixed list\n",
            "\n",
            "\n",
            "List: [1, 2, 3]\n",
            "Largest number from the three numbers of the list is: 3\n",
            "\n",
            "\n",
            "This is the output of the customized list\n",
            "Insert Element: 9\n",
            "Insert Element: 15\n",
            "Insert Element: 2\n",
            "List: [9, 15, 2]\n",
            "Largest number from the three numbers of the list is: 15\n"
          ],
          "name": "stdout"
        }
      ]
    },
    {
      "cell_type": "markdown",
      "metadata": {
        "id": "495111e4"
      },
      "source": [
        "3. Write a Python function to sum all the numbers in a list."
      ],
      "id": "495111e4"
    },
    {
      "cell_type": "code",
      "metadata": {
        "colab": {
          "base_uri": "https://localhost:8080/"
        },
        "id": "8860e3c2",
        "outputId": "821f7673-a63b-4357-d5c2-898602fa86c3"
      },
      "source": [
        "#PreFixedList\n",
        "print('This is the output of the pre fixed list')\n",
        "print('\\n')\n",
        "l = list(range(0,10))\n",
        "\n",
        "def SumList(l):\n",
        "  k = sum(l)\n",
        "  return(k)\n",
        "print(\"List:\", l)\n",
        "print(\"Sum of all the elements in the list is:\", SumList(l))\n",
        "print('\\n')\n",
        "#CustomizedList\n",
        "print('This is the output of the customized list')\n",
        "l = []\n",
        "i = 0\n",
        "a = int(input(\"Insert the length of the list: \"))\n",
        "while i < a:\n",
        "  b = int(input(\"Insert Element: \"))\n",
        "  l.append(b)\n",
        "  i+=1\n",
        "print(\"List:\", l)\n",
        "def SumList(l):\n",
        "  k = sum(l)\n",
        "  return(k)\n",
        "print(\"Sum of all the elements in the list is:\", SumList(l))"
      ],
      "id": "8860e3c2",
      "execution_count": null,
      "outputs": [
        {
          "output_type": "stream",
          "text": [
            "This is the output of the pre fixed list\n",
            "\n",
            "\n",
            "List: [0, 1, 2, 3, 4, 5, 6, 7, 8, 9]\n",
            "Sum of all the elements in the list is: 45\n",
            "\n",
            "\n",
            "This is the output of the customized list\n",
            "Insert the length of the list: 5\n",
            "Insert Element: 55\n",
            "Insert Element: 45\n",
            "Insert Element: 35\n",
            "Insert Element: 25\n",
            "Insert Element: 15\n",
            "List: [55, 45, 35, 25, 15]\n",
            "Sum of all the elements in the list is: 175\n"
          ],
          "name": "stdout"
        }
      ]
    },
    {
      "cell_type": "markdown",
      "metadata": {
        "id": "80633f40"
      },
      "source": [
        "4. Find a number is prime or not using function."
      ],
      "id": "80633f40"
    },
    {
      "cell_type": "code",
      "metadata": {
        "id": "d9357a50",
        "colab": {
          "base_uri": "https://localhost:8080/"
        },
        "outputId": "2c98081d-14b2-4c64-9d18-2feb2615ec52"
      },
      "source": [
        "def prime(i):\n",
        "  n = 1\n",
        "  c = 0\n",
        "  if i%2!=0:\n",
        "    while n <= i:\n",
        "      k =  i%n\n",
        "      if k ==0:\n",
        "        c+=1\n",
        "      n+=1\n",
        "    if c == 2:\n",
        "      return('Prime number')\n",
        "    else:\n",
        "      return('Not prime number')\n",
        "  elif i==2:\n",
        "    return('Prime number')\n",
        "  else:\n",
        "    return('Not prime number')\n",
        "\n",
        "i = int(input(\"Insert a number: \"))\n",
        "o = prime(i)\n",
        "print(o)"
      ],
      "id": "d9357a50",
      "execution_count": null,
      "outputs": [
        {
          "output_type": "stream",
          "text": [
            "Insert a number: 13\n",
            "Prime number\n"
          ],
          "name": "stdout"
        }
      ]
    },
    {
      "cell_type": "markdown",
      "metadata": {
        "id": "68153182"
      },
      "source": [
        "5. Take three list of different size and claculate the sum of the list using one function."
      ],
      "id": "68153182"
    },
    {
      "cell_type": "code",
      "metadata": {
        "colab": {
          "base_uri": "https://localhost:8080/"
        },
        "id": "8db81529",
        "outputId": "bd9f7c5f-3a42-4446-c157-c75d5d93fad9"
      },
      "source": [
        "a = list(range(0,10))\n",
        "b = list(range(10,30))\n",
        "c = list(range(31,35))\n",
        "\n",
        "def SumList(a,b,c):\n",
        "  s = 0 #Total Sum\n",
        "  for i in a:\n",
        "    s = s+i\n",
        "  for i in b:\n",
        "    s = s+i\n",
        "  for i in c:\n",
        "    s = s+i\n",
        "  return(s)\n",
        "\n",
        "print(\"List 1:\",a)\n",
        "print(\"List 2:\",b)\n",
        "print(\"List 3:\",c)\n",
        "print(\"Sum of all the elements of the 3 lists is:\", SumList(a,b,c))"
      ],
      "id": "8db81529",
      "execution_count": null,
      "outputs": [
        {
          "output_type": "stream",
          "text": [
            "List 1: [0, 1, 2, 3, 4, 5, 6, 7, 8, 9]\n",
            "List 2: [10, 11, 12, 13, 14, 15, 16, 17, 18, 19, 20, 21, 22, 23, 24, 25, 26, 27, 28, 29]\n",
            "List 3: [31, 32, 33, 34]\n",
            "Sum of all the elements of the 3 lists is: 565\n"
          ],
          "name": "stdout"
        }
      ]
    },
    {
      "cell_type": "markdown",
      "metadata": {
        "id": "05fe0b08"
      },
      "source": [
        "6. Write a Python function that checks whether a passed string is palindrome or not."
      ],
      "id": "05fe0b08"
    },
    {
      "cell_type": "code",
      "metadata": {
        "id": "1311123e",
        "colab": {
          "base_uri": "https://localhost:8080/"
        },
        "outputId": "e28bc40e-3000-4c2c-fbb8-7a3ec41d18ec"
      },
      "source": [
        "def palindrome(i):\n",
        "  c = 0\n",
        "  l = []\n",
        "  for q in i:\n",
        "    l.append(q)\n",
        "  k = len(l)\n",
        "  h = k/2\n",
        "  p = 0\n",
        "  if k%2 ==0:\n",
        "    while p < h:\n",
        "      if l[p] == l[-(p+1)]:\n",
        "        c+=1\n",
        "      p+=1\n",
        "    if h == c:\n",
        "      return('Palindrome word')\n",
        "    else:\n",
        "      return('Non-Palindrome word')\n",
        "  else:\n",
        "    x = k-1\n",
        "    h = x/2\n",
        "    while p < h:\n",
        "      if l[p] == l[-(p+1)]:\n",
        "        c+=1\n",
        "      p+=1\n",
        "    if h == c:\n",
        "      return('Palindrome word')\n",
        "    else:\n",
        "      return('Non-Palindrome word')\n",
        "\n",
        "i = input(\"Insert a sting: \")\n",
        "x = palindrome(i)\n",
        "print(x)"
      ],
      "id": "1311123e",
      "execution_count": null,
      "outputs": [
        {
          "output_type": "stream",
          "text": [
            "Insert a sting: rotor\n",
            "Palindrome word\n"
          ],
          "name": "stdout"
        }
      ]
    },
    {
      "cell_type": "markdown",
      "metadata": {
        "id": "9161764d"
      },
      "source": [
        "7. Write a Python function to calculate the factorial of a number (a non-negative integer). The function accepts the number as an argument."
      ],
      "id": "9161764d"
    },
    {
      "cell_type": "code",
      "metadata": {
        "id": "81b49718",
        "colab": {
          "base_uri": "https://localhost:8080/"
        },
        "outputId": "0c46ac4f-b5a9-4bc7-cc33-c558a340afb8"
      },
      "source": [
        "def factorial(i):\n",
        "  m = 1\n",
        "  p = i\n",
        "  if i > 2:\n",
        "    while p == i:\n",
        "      j = i-1\n",
        "      k = i*j\n",
        "      m = m*k\n",
        "      i -= 1\n",
        "    while i > 2:\n",
        "      j = i-1\n",
        "      m = m*j\n",
        "      i -= 1\n",
        "    return(m)\n",
        "  elif i == 2:\n",
        "    j = i-1\n",
        "    k = i*j\n",
        "    return(k)\n",
        "  else:\n",
        "    return(m)\n",
        "\n",
        "i = int(input(\"Insert a positive number: \"))\n",
        "print(\"The factorial of that number is:\", factorial(i))"
      ],
      "id": "81b49718",
      "execution_count": null,
      "outputs": [
        {
          "output_type": "stream",
          "text": [
            "Insert a positive number: 4\n",
            "The factorial of that number is: 24\n"
          ],
          "name": "stdout"
        }
      ]
    },
    {
      "cell_type": "markdown",
      "metadata": {
        "id": "eeeaef47"
      },
      "source": [
        "8. Create a function showEmployee() in such a way that it should accept employee name, and its salary and display both. Use dictionary in here."
      ],
      "id": "eeeaef47"
    },
    {
      "cell_type": "code",
      "metadata": {
        "id": "b9a545cc",
        "colab": {
          "base_uri": "https://localhost:8080/"
        },
        "outputId": "27129507-14b8-454a-e3e2-418478147be6"
      },
      "source": [
        "def showEmployee(a,b):\n",
        "  d = dict()\n",
        "  d[a] = b\n",
        "  return(d)\n",
        "\n",
        "a = input('What is the name of the employee?: ')\n",
        "b = input('What is the salary of the employee?: ')\n",
        "print(showEmployee(a,b))"
      ],
      "id": "b9a545cc",
      "execution_count": null,
      "outputs": [
        {
          "output_type": "stream",
          "text": [
            "What is the name of the employee?: Luffy\n",
            "What is the salary of the employee?: 300000000000\n",
            "{'Luffy': '300000000000'}\n"
          ],
          "name": "stdout"
        }
      ]
    },
    {
      "cell_type": "markdown",
      "metadata": {
        "id": "9700ad35"
      },
      "source": [
        "9. Write a python function that can seperate the even and odd numbers from a list."
      ],
      "id": "9700ad35"
    },
    {
      "cell_type": "code",
      "metadata": {
        "id": "8b3f75ce",
        "colab": {
          "base_uri": "https://localhost:8080/"
        },
        "outputId": "50fda6a1-0b4a-4c95-eebb-4ba948bef4d7"
      },
      "source": [
        "#PreDefinedLists\n",
        "l = list(range(1,11))\n",
        "def separate(l):\n",
        "  a = []\n",
        "  b = []\n",
        "  for i in l:\n",
        "    if i%2 == 0:\n",
        "      a.append(i)\n",
        "    else:\n",
        "      b.append(i)\n",
        "  return(a,b)\n",
        "x = separate(l)\n",
        "print('The even numbers in the lists are:', x[0])\n",
        "print('The odd numbers in the lists are:', x[1])\n",
        "\n",
        "#CustomListOutput\n",
        "print('\\n')\n",
        "print('Custom list output starts from here')\n",
        "print('\\n')\n",
        "\n",
        "k = 0\n",
        "l = []\n",
        "i = int(input('Insert the length of the list: '))\n",
        "while k < i:\n",
        "  a = int(input(\"Insert element: \"))\n",
        "  l.append(a)\n",
        "  k+=1 \n",
        "\n",
        "def separate(l):\n",
        "  a = []\n",
        "  b = []\n",
        "  for i in l:\n",
        "    if i%2 == 0:\n",
        "      a.append(i)\n",
        "    else:\n",
        "      b.append(i)\n",
        "  return(a,b)\n",
        "x = separate(l)\n",
        "print('The even numbers in the lists are:', x[0])\n",
        "print('The odd numbers in the lists are:', x[1])"
      ],
      "id": "8b3f75ce",
      "execution_count": null,
      "outputs": [
        {
          "output_type": "stream",
          "text": [
            "The even numbers in the lists are: [2, 4, 6, 8, 10]\n",
            "The odd numbers in the lists are: [1, 3, 5, 7, 9]\n",
            "\n",
            "\n",
            "Custom list output starts from here\n",
            "\n",
            "\n",
            "Insert the length of the list: 7\n",
            "Insert element: 2\n",
            "Insert element: 4\n",
            "Insert element: 6\n",
            "Insert element: 8\n",
            "Insert element: 10\n",
            "Insert element: 12\n",
            "Insert element: 13\n",
            "The even numbers in the lists are: [2, 4, 6, 8, 10, 12]\n",
            "The odd numbers in the lists are: [13]\n"
          ],
          "name": "stdout"
        }
      ]
    },
    {
      "cell_type": "markdown",
      "metadata": {
        "id": "b3f549df"
      },
      "source": [
        "10. Write two different functions that show the operation of *args and *kwargs argument."
      ],
      "id": "b3f549df"
    },
    {
      "cell_type": "code",
      "metadata": {
        "colab": {
          "base_uri": "https://localhost:8080/"
        },
        "id": "kefMUY5fnDbO",
        "outputId": "d381c3b5-b8a3-4f22-9602-a10934a7edb3"
      },
      "source": [
        "print('Using *args')\n",
        "print('\\n')\n",
        "\n",
        "def person(Avatar_Name, *Other_Data):\n",
        "  print(Avatar_Name)\n",
        "  print(Other_Data)\n",
        "\n",
        "person('Kyoshi', 230,'Yokoya','Earth')\n",
        "\n",
        "print('\\n')\n",
        "print('Using **kwargs')\n",
        "print('\\n')\n",
        "\n",
        "def person(Avatar_Name, **Other_Data):\n",
        "  print(Avatar_Name)\n",
        "  print(Other_Data)\n",
        "\n",
        "person('Kyoshi',age = 230, Born_city = 'Yokoya', Element='Earth')\n"
      ],
      "id": "kefMUY5fnDbO",
      "execution_count": null,
      "outputs": [
        {
          "output_type": "stream",
          "text": [
            "Using *args\n",
            "\n",
            "\n",
            "Kyoshi\n",
            "(230, 'Yokoya', 'Earth')\n",
            "\n",
            "\n",
            "Using **kwargs\n",
            "\n",
            "\n",
            "Kyoshi\n",
            "{'age': 230, 'Born_city': 'Yokoya', 'Element': 'Earth'}\n"
          ],
          "name": "stdout"
        }
      ]
    },
    {
      "cell_type": "code",
      "metadata": {
        "id": "iVhfZrN9Fx6J"
      },
      "source": [
        ""
      ],
      "id": "iVhfZrN9Fx6J",
      "execution_count": null,
      "outputs": []
    }
  ]
}